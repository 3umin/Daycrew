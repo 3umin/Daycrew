{
  "metadata": {
    "kernelspec": {
      "name": "python",
      "display_name": "Python (Pyodide)",
      "language": "python"
    },
    "language_info": {
      "codemirror_mode": {
        "name": "python",
        "version": 3
      },
      "file_extension": ".py",
      "mimetype": "text/x-python",
      "name": "python",
      "nbconvert_exporter": "python",
      "pygments_lexer": "ipython3",
      "version": "3.8"
    }
  },
  "nbformat_minor": 4,
  "nbformat": 4,
  "cells": [
    {
      "cell_type": "markdown",
      "source": "# Stage 1\n## 1. Intro\n\n<img src = \"https://img.freepik.com/premium-photo/stock-market-or-forex-trading-graph-in-graphic-concept_73426-104.jpg?w=2000\" height = 400 width = 800 >\n\n\n오늘 산 이 주식 오를까 내릴까 궁금하지 않아?\n\n오늘 장이 종료되지 않았는데 종가를 예측할 수 있다고?\n\n#### 주식 종가 예측 경진대회를 소개합니다!\n",
      "metadata": {}
    },
    {
      "cell_type": "markdown",
      "source": "----\n\n코로나 이후 유달리 뜨거웠던 주식시장, 요즘은 하락장이 계속되며 많은 사람들이 걱정을 하고 있는데요. 만약 주식 가격을 인공지능을 이용해 예측을 할 수 있다면 어떻게 될까요?\n\n### 이번 교육을 통해 주식 가격을 예측할 수 있는 데이커가 되어보세요!\n\n----\n\n\n## 2. 프로젝트 배경\n\n![table](https://cdn.econovill.com/news/photo/202203/568859_489484_1140.jpg)\n\n지난 2020년과 2021년, 코로나 시기를 거쳐오며 주식 투자자들의 수는 매우 늘어났습니다!\n\n2022년 한국예탁결제원이 발표한 ‘최근 5개년 12월 결산 상장법인 소유자 현황’에 따르면 주식을 소유하고 있는 소유자 수는 2019년 약 600만명에서 2021년 약 1300만명으로 약 123%나 늘어났습니다.\n\n그만큼 주식에 대한 전국민적인 관심이 늘어났다고 할 수 있을텐데요, 만약 데이터를 이용해 주식의 가격을 예측할 수 있다면 어떨까요?\n\n#### 지금부터 시작하겠습니다!\n\n\n\n## 3. 데이터 살펴보기\n### 3.1 데이터 불러오기\n\n이번 프로젝트는 모든 데이터 파일을 주었던 대부분의 대회와 달리, 원래는 데이터를 직접 불러와야합니다. \n\n하지만 저희가 학습하고 있는 JupyterLite 환경에서는 해당 패키지의 사용이 어려운데요,\n#### 그래서 저희가 친절히 데이터를 모두 가져와봤습니다!\n\n1. stock_list : 주식의 종목명과 종목코드, 상장 시장(Kospi 또는 Kosdaq)\n2. sample_submission : 예측한 값을 기록하여 평가하기 위한 제출 파일의 양식\n\n3. 종목리스트 : 패키지를 이용해 불러온 주식의 종목명과 종목코드, 상장시장 등 주식종목에 대한 여러 정보\n4. 주가파일 : 2012년 1월 1일부터 2021년 11월 26일까지의 삼성전자 주가 데이터 \n5. 코스피상폐현황 : 2021년 11월 26일까지 코스피 시장에서 상장폐지된 종목\n6. 코스닥상폐현황: 2021년 11월 26일까지 코스닥 시장에서 상장폐지된 종목\n7. 주가지수 : 2012년 1월 1일부터 2022년 1월 18일까지 코스피/코스닥 지수\n8. 환율파일 : 2012년 1월 1일부터 2022년 1월 18일까지 환율\n\n원래는 4번 주가파일에 다른 종목들도 들어있어야 하지만, 여기서는 간단한 분석을 위해 삼성전자만 뽑아냈습니다.\n\n필요한 데이터 파일은 아래 링크에서 다운로드 받으시면 됩니다!\n\n데이터 다운로드 링크: https://drive.google.com/file/d/1zhdDw6B7zP_61y9CVaT_x7kNAJ64mlO_/view?usp=sharing\n",
      "metadata": {
        "tags": []
      }
    },
    {
      "cell_type": "markdown",
      "source": "### Inst.\n분석에 사용할 데이터인 sample_submission.csv 파일을 한번 불러와 보겠습니다.\n\nread_csv() 함수는 ('파일이 있는 위치/파일명.확장자명') 의 인자를 입력받아 데이터를 불러옵니다. 만약 C 드라이브의 data 폴더에 파일이 들어있다면 (‘C:/data/파일명.확장자명’)의 형식으로 입력받아 파일을 불러올 수 있습니다.\n\n만약 현재 코드가 실행되고 있는 파일(.ipynb)과 불러오고 싶은 데이터 파일(.csv)이 동일한 위치에 존재한다면, read_csv() 함수는 파일이 있는 위치를 생략하고 (‘파일명.확장자명’) 의 형식을 받아 데이터를 불러올 수 있습니다.\n\n##### 입력되어 있는 코드셀을 확인하고, 직접 실행해 보세요!\n\n### Hint.\n현재 코드를 실행중인 ipynb 파일과 sample_submission.csv 파일은 같은 위치에 있는 상황입니다.\n### Solution.\n설치된 패키지를 사용하기 위해서는 다음과 같은 문법을 활용합니다.\nimport(불러오다) 패키지명(무엇을) as(줄여서) ???(줄임말)로\n\n```python\nimport 패키지명 as 약어\n```\n\"import” 명령어는 설치된 “pandas\" 패키지를 불러와서 실행할 수 있게 대기 상태로 만들어 주는 명령어입니다.\n\n인터넷으로 무언가를 검색하기 위해선 일단 웹 브라우저를 실행해야 하는 것과 유사하죠.\n\n“as” 명령어는 “alias”의 약자로, 약어를 생성해 “pandas”를 사용하기 위해 매번 긴 이름을 입력해야 하는 수고를 덜 수 있습니다.\n\n예를 들어, import pandas 만 쳤을 때는 pandas 패키지에 들어있는 read_csv()라는 함수를 사용하기 위해 pandas.read_csv() 라고 입력해야 합니다.\n\n하지만 import pandas as pd 라고 친다면 이 긴 코드 대신에 pd.read_csv() 라고 간단하게 입력할 수 있습니다.\n\n지금은 단 한 줄의 코드만 작성해서 큰 차이를 못느낄 수 있지만, 나중에 pandas 패키지에 들어있는 함수를 여러번 사용하려면, 매번 pandas 라고 치는 것 보단 pd라고 입력하는 것이 훨씬 간편하다는 것을 알게 될 것입니다.\n\n다음으로, pandas 패키지를 불러왔으면 pandas에서 제공하는 기능 중 csv 파일을 불러오는 “read_csv” 함수를 사용하여 “sample_submission.csv” 라는 파일을 “submission”이라는 이름의 객체(그릇)에 만들어 저장합니다.\n\n\n\n",
      "metadata": {}
    },
    {
      "cell_type": "markdown",
      "source": "##### 자, 그럼 워밍업 차원에서 직접 해 볼까요?\n\n### Inst.\n- pandas 패키지를 pd라는 약자로 import 하세요.\n- read_csv() 메소드를 이용해 파일을 지정된 객체에 저장하세요\n- 이때, 데이터 파일은 현재 실행중인 파일(ipynb) 파일과 다른 위치에 있다고 생각하고 불러와보세요\n- 각각의 파일은 드라이브에 practice_data 폴더를 생성한 후 여기에 저장해주세요.\n- 파일에 한글이 들어있으면 read_csv() 함수 안에 encoding=’utf-8’을 지정해주어야 합니다!\n",
      "metadata": {}
    },
    {
      "cell_type": "code",
      "source": "# 데이터를 불러오기 위해 pandas 패키지를 import\nimport pandas as pd\n\n# sample_submission.csv 파일을 불러와서 submission 객체에 저장\nsubmission = pd.read_csv('sample_submission.csv')",
      "metadata": {},
      "execution_count": 2,
      "outputs": []
    },
    {
      "cell_type": "code",
      "source": "# 데이터를 불러오기 위해 pandas 패키지를 import\n\n# stock_list.csv 파일을 불러와서 stock_list 객체에 저장\n\n# 종목리스트.csv 파일을 불러와서 df_in_tt 객체에 저장\n\n# 주가파일.csv 파일을 불러와서 df_price 객체에 저장\n\n# 코스피상폐현황.csv 파일을 불러와서 df_out_tt1 객체에 저장\n\n# 코스닥상폐현황.csv 파일을 불러와서 df_out_tt2 객체에 저장\n\n# 주가지수.csv 파일을 불러와서 df_index 객체에 저장\n\n# 환율파일.csv 파일을 불러와서 df_usdkrw 객체에 저장  \n",
      "metadata": {},
      "execution_count": 3,
      "outputs": []
    },
    {
      "cell_type": "markdown",
      "source": "\n### Solution.\n",
      "metadata": {}
    },
    {
      "cell_type": "code",
      "source": "import pandas as pd\nstock_list = pd.read_csv('./practice_data/stock_list.csv')\n\ndf_in_tt = pd.read_csv('./practice_data/종목리스트.csv', encoding='utf-8')\n\ndf_price = pd.read_csv('./practice_data/주가파일.csv', encoding='utf-8')\n\ndf_out_tt1 = pd.read_csv('./practice_data/코스피상폐현황.csv', encoding='utf-8')\n\ndf_out_tt2 = pd.read_csv('./practice_data/코스닥상폐현황.csv', encoding='utf-8')\n\ndf_index = pd.read_csv('./practice_data/주가지수.csv', encoding='utf-8')\n\ndf_usdkrw = pd.read_csv('./practice_data/환율파일.csv', encoding='utf-8')",
      "metadata": {},
      "execution_count": null,
      "outputs": []
    },
    {
      "cell_type": "markdown",
      "source": "\n## 3.2 데이터 확인\n데이터를 불러왔으면, 데이터를 정상적으로 잘 불러왔는지, 데이터는 어떻게 생겼는지를 확인해야합니다.\n\n데이터 과학 실무에서는 데이터를 살펴볼 때 데이터가 어떤 형태를 띄는지, 그리고 결측치나 값의 분포는 어떻게 되는지를 알기 위해 head(), info(), describe() 메소드를 활용하는 경우가 많습니다.\n\n- head(n) : 처음 n개의 행 불러오기(n에 숫자를 넣지 않고 비워둔다면, 자동으로 처음 5개의 행을 불러오게 됩니다)\n\n- info() : 데이터 결측치 및 각 변수들의 데이터 타입 확인\n\n- describe() : 연속형 변수들의 데이터 분포 확인\n                          \n##### 그럼 데이터가 어떻게 생겼는지 이 메소드들을 이용하여 직접 확인해 보세요!\n\n",
      "metadata": {}
    },
    {
      "cell_type": "code",
      "source": "df_price.head()",
      "metadata": {},
      "execution_count": 5,
      "outputs": [
        {
          "execution_count": 5,
          "output_type": "execute_result",
          "data": {
            "text/html": [
              "<div>\n",
              "<style scoped>\n",
              "    .dataframe tbody tr th:only-of-type {\n",
              "        vertical-align: middle;\n",
              "    }\n",
              "\n",
              "    .dataframe tbody tr th {\n",
              "        vertical-align: top;\n",
              "    }\n",
              "\n",
              "    .dataframe thead th {\n",
              "        text-align: right;\n",
              "    }\n",
              "</style>\n",
              "<table border=\"1\" class=\"dataframe\">\n",
              "  <thead>\n",
              "    <tr style=\"text-align: right;\">\n",
              "      <th></th>\n",
              "      <th>open</th>\n",
              "      <th>high</th>\n",
              "      <th>low</th>\n",
              "      <th>end</th>\n",
              "      <th>cnt</th>\n",
              "      <th>Change</th>\n",
              "      <th>code</th>\n",
              "      <th>dt_base</th>\n",
              "      <th>dt</th>\n",
              "    </tr>\n",
              "  </thead>\n",
              "  <tbody>\n",
              "    <tr>\n",
              "      <th>0</th>\n",
              "      <td>21400</td>\n",
              "      <td>21600</td>\n",
              "      <td>21300</td>\n",
              "      <td>21600</td>\n",
              "      <td>263300</td>\n",
              "      <td>0.020794</td>\n",
              "      <td>5930</td>\n",
              "      <td>2023-02-19 16:10:03.436576</td>\n",
              "      <td>2012-01-02</td>\n",
              "    </tr>\n",
              "    <tr>\n",
              "      <th>1</th>\n",
              "      <td>21860</td>\n",
              "      <td>22100</td>\n",
              "      <td>21840</td>\n",
              "      <td>22100</td>\n",
              "      <td>339046</td>\n",
              "      <td>0.023148</td>\n",
              "      <td>5930</td>\n",
              "      <td>2023-02-19 16:10:03.436576</td>\n",
              "      <td>2012-01-03</td>\n",
              "    </tr>\n",
              "    <tr>\n",
              "      <th>2</th>\n",
              "      <td>22100</td>\n",
              "      <td>22200</td>\n",
              "      <td>21500</td>\n",
              "      <td>21600</td>\n",
              "      <td>342389</td>\n",
              "      <td>-0.022624</td>\n",
              "      <td>5930</td>\n",
              "      <td>2023-02-19 16:10:03.436576</td>\n",
              "      <td>2012-01-04</td>\n",
              "    </tr>\n",
              "    <tr>\n",
              "      <th>3</th>\n",
              "      <td>21460</td>\n",
              "      <td>21580</td>\n",
              "      <td>21100</td>\n",
              "      <td>21100</td>\n",
              "      <td>346691</td>\n",
              "      <td>-0.023148</td>\n",
              "      <td>5930</td>\n",
              "      <td>2023-02-19 16:10:03.436576</td>\n",
              "      <td>2012-01-05</td>\n",
              "    </tr>\n",
              "    <tr>\n",
              "      <th>4</th>\n",
              "      <td>21120</td>\n",
              "      <td>21319</td>\n",
              "      <td>20600</td>\n",
              "      <td>20800</td>\n",
              "      <td>376753</td>\n",
              "      <td>-0.014218</td>\n",
              "      <td>5930</td>\n",
              "      <td>2023-02-19 16:10:03.436576</td>\n",
              "      <td>2012-01-06</td>\n",
              "    </tr>\n",
              "  </tbody>\n",
              "</table>\n",
              "</div>"
            ],
            "text/plain": [
              "    open   high    low    end     cnt    Change  code  \\\n",
              "0  21400  21600  21300  21600  263300  0.020794  5930   \n",
              "1  21860  22100  21840  22100  339046  0.023148  5930   \n",
              "2  22100  22200  21500  21600  342389 -0.022624  5930   \n",
              "3  21460  21580  21100  21100  346691 -0.023148  5930   \n",
              "4  21120  21319  20600  20800  376753 -0.014218  5930   \n",
              "\n",
              "                      dt_base          dt  \n",
              "0  2023-02-19 16:10:03.436576  2012-01-02  \n",
              "1  2023-02-19 16:10:03.436576  2012-01-03  \n",
              "2  2023-02-19 16:10:03.436576  2012-01-04  \n",
              "3  2023-02-19 16:10:03.436576  2012-01-05  \n",
              "4  2023-02-19 16:10:03.436576  2012-01-06  "
            ]
          },
          "metadata": {}
        }
      ]
    },
    {
      "cell_type": "markdown",
      "source": "\n### Inst.\nhead( ) 메소드를 사용하면 데이터의 처음 5행을 선택할 수 있습니다.\n\n### Hint.\nempty\n\n### Solution.\nempty\n\n\nsample_submission 데이터는 날짜별로 행이 구성되어 있습니다.\n\n이로써 이번 주식 종가 예측 프로젝트는 해당하는 날짜의 주식 종가를 예측하는 게 최종 목표라는 것을 알 수 있습니다.\n\n즉, 0으로만 이루어진 submission 파일을 각 날짜의 예측값으로 채우면 되겠죠?\n\n# 4. 제출 준비하기\n##### 자, 제출을 해 봅시다.\n\n한 것도 없는데 제출한다구요?\n\n맞습니다.\n\n이번 스테이지에서는 제출파일을 제출하는 방법 먼저 배워보도록 하겠습니다. 이후 스테이지를 거듭하며 조금씩 점수를 올려 보겠습니다.\n\n##### 아래와 같이 to_csv 메소드를 이용하여 submission을 submission.csv로 저장해 제출해 보죠!",
      "metadata": {}
    },
    {
      "cell_type": "code",
      "source": "submission.to_csv('submission.csv', index=False, encoding='utf-8-sig')",
      "metadata": {},
      "execution_count": null,
      "outputs": []
    },
    {
      "cell_type": "markdown",
      "source": "\n### Inst.\n“to_csv” 메소드는 데이터프레임(ex. submission) 객체의 내용을 csv 파일 형태로 만들어 저장해주는 기능을 합니다.\n\n이렇게 해야 파이썬에서 작업한 내용이 파이썬 밖의 파일로 저장되어 여러분이 만질 수 있는 형태가 되는거죠.\n\n이처럼 파일을 불러서 처리한 후, 저장하는 일련의 과정을 \"데이터 i/o(input/output)를 처리한다\" 라고 합니다.\n\n그럼 to_csv 메소드를 이용하여 submission 데이터프레임의 내용을 csv 파일 형태로 저장하고, index=False를 하여 인덱스가 같이 저장되지 않도록 하겠습니다. 또 이번에는 파일 인코딩 방식을 지정해주었는데요, 만약 데이터프레임에 한글이 없고 영어나 숫자로만 이루어져 있다면 인코딩을 따로 지정해주지 않아도 원활한 저장이 가능합니다.\n\n하지만 만약 데이터프레임에 한글이 들어가 있다면 파이썬은 외국에서 만든 프로그램인 만큼 추가적인 작업을 해주어야 하는데요, 만약 encoding=’utf-8-sig’를 입력하지 않고 파일을 저장하게 된다면 밖에서 파일을 열어봤을 때 한글이 깨진채로 저장되게 될 것입니다.\n\n이는 앞서 배웠던 read_csv() 메소드로 파일을 불러올 때도 활용이 되는데요, 만약 read_csv()로 파일을 불러왔는데 글씨가 깨져있다면 read_csv(‘파일경로/파일명.확장자명’, encoding=’CP949’)나 read_csv(‘파일경로/파일명.확장자명’, encoding=’UTF-8’) 을 입력하여 읽어보세요! \n\n한글이 깨지지 않고 잘 불러와질 것입니다.\n\n이상으로 '데이터 불러오기' 주제 Stage 1이였습니다.\n\n다음 Stage 2에는 활용할 패키지에 대한 설명과 데이터 로드 및 설명에 대한 내용을 가지고 찾아오도록 하겠습니다\n\n\n#### 다음에 또 만나요!\n",
      "metadata": {}
    }
  ]
}